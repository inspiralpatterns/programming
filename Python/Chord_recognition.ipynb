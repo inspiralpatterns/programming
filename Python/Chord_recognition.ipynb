{
 "cells": [
  {
   "cell_type": "code",
   "execution_count": null,
   "metadata": {
    "collapsed": false
   },
   "outputs": [],
   "source": [
    "from __future__ import print_function\n",
    "\n",
    "import numpy as np\n",
    "from numpy import genfromtxt\n",
    "\n",
    "import keras\n",
    "from keras.models import Model\n",
    "from keras.layers import Input, Dense, Merge, Dropout"
   ]
  },
  {
   "cell_type": "code",
   "execution_count": null,
   "metadata": {
    "collapsed": false
   },
   "outputs": [],
   "source": [
    "# import set from csv\n",
    "test_data = genfromtxt(fname='chord_data.csv', delimiter=',')\n",
    "test_data.shape\n",
    "\n",
    "# split labels, train and test set\n",
    "labels = test_data[:,0:2]\n",
    "split_point = np.ceil((len(test_data)*0.7)).astype(int)\n",
    "train_set = test_data[0:split_point,2:]\n",
    "test_set = test_data[split_point:,2:]\n",
    "train_labels = labels[0:split_point,0]\n",
    "test_labels = labels[split_point:,0]\n",
    "print('Train set shape:', train_set.shape)\n",
    "print('Test set shape:', test_set.shape)\n",
    "\n",
    "# convert to binary class matrices\n",
    "# (root classification)\n",
    "targets = 12\n",
    "\n",
    "train_labels = keras.utils.to_categorical(train_labels, targets)\n",
    "test_labels = keras.utils.to_categorical(test_labels, targets)\n",
    "print('Train labels shape:', train_labels.shape)\n",
    "print('Test labels shape:', test_labels.shape)"
   ]
  },
  {
   "cell_type": "code",
   "execution_count": null,
   "metadata": {
    "collapsed": true
   },
   "outputs": [],
   "source": [
    "# define the model for chord root classification\n",
    "batch_size = 64\n",
    "epochs = 10\n",
    "\n",
    "def get_root_model():   \n",
    "    a = Input(shape=(12,))\n",
    "    b = Dense(128, activation='relu')(a)\n",
    "    b = Dropout(0.5)(b)\n",
    "    c = Dense(256, activation='relu')(b)  \n",
    "    c = Dropout(0.5)(c)\n",
    "    out = Dense(targets, activation='softmax')(c)        \n",
    "        \n",
    "    return Model(inputs=a, outputs=out)"
   ]
  },
  {
   "cell_type": "code",
   "execution_count": null,
   "metadata": {
    "collapsed": false
   },
   "outputs": [],
   "source": [
    "# Root model configuration\n",
    "root_model = get_root_model()\n",
    "root_model.compile(loss='categorical_crossentropy',\n",
    "            optimizer='sgd',\n",
    "            metrics=['accuracy'])\n",
    "\n",
    "root_model.fit(train_set, train_labels,\n",
    "              batch_size=batch_size,\n",
    "              epochs=epochs,\n",
    "              validation_data=(test_set, test_labels),\n",
    "              verbose=0,\n",
    "              shuffle=True\n",
    "              )\n",
    "\n",
    "root_model.summary()"
   ]
  },
  {
   "cell_type": "code",
   "execution_count": null,
   "metadata": {
    "collapsed": false
   },
   "outputs": [],
   "source": [
    "score = root_model.evaluate(test_set, test_labels, verbose=0)\n",
    "print('Test accuracy:', score[1])"
   ]
  },
  {
   "cell_type": "code",
   "execution_count": null,
   "metadata": {
    "collapsed": true
   },
   "outputs": [],
   "source": [
    "# define the model for type classification (major, minor)\n",
    "\n",
    "def get_type_model():   \n",
    "    a = Input(shape=(12,))\n",
    "    b = Dense(128, activation='tanh')(a)\n",
    "    c = Dense(256, activation='tanh')(b)  \n",
    "    c = Dropout(0.2)(c)\n",
    "    out = Dense(1, activation='sigmoid')(c)        \n",
    "        \n",
    "    return Model(inputs=a, outputs=out)"
   ]
  },
  {
   "cell_type": "code",
   "execution_count": null,
   "metadata": {
    "collapsed": false
   },
   "outputs": [],
   "source": [
    "# Type model configuration\n",
    "type_model = get_type_model()\n",
    "type_model.compile(loss='binary_crossentropy',\n",
    "            optimizer='adadelta',\n",
    "            metrics=['accuracy'])\n",
    "\n",
    "# change label so that they represent the type\n",
    "train_labels = labels[0:split_point,1]\n",
    "test_labels = labels[split_point:,1]\n",
    "\n",
    "type_model.fit(train_set, train_labels,\n",
    "              batch_size=batch_size,\n",
    "              epochs=epochs,\n",
    "              validation_data=(test_set, test_labels),\n",
    "              verbose=0,\n",
    "              shuffle=True\n",
    "              )\n"
   ]
  },
  {
   "cell_type": "code",
   "execution_count": null,
   "metadata": {
    "collapsed": false
   },
   "outputs": [],
   "source": [
    "score = type_model.evaluate(test_set, test_labels, verbose=0)\n",
    "print('Test accuracy:', score[1])"
   ]
  },
  {
   "cell_type": "code",
   "execution_count": null,
   "metadata": {
    "collapsed": true
   },
   "outputs": [],
   "source": [
    "full_labels = labels[split_point:,:].astype(int)\n",
    "estimate_full_labels = np.zeros(full_labels.shape, dtype=int)\n",
    "classification = np.zeros((len(full_labels),1), dtype=bool)\n",
    "\n",
    "# Chord estimation\n",
    "root_estimates = root_model.predict(test_set)\n",
    "type_estimates = type_model.predict(test_set)"
   ]
  },
  {
   "cell_type": "code",
   "execution_count": null,
   "metadata": {
    "collapsed": true
   },
   "outputs": [],
   "source": [
    "# Comparison between estimates and true labels\n",
    "for n in range(len(test_set)):\n",
    "    estimate_full_labels[n,0] = np.argmax(root_estimates[n])\n",
    "    estimate_full_labels[n,1] = np.round(type_estimates[n])\n",
    "    # compare the labels and set the classification matrix True for the index\n",
    "    if (estimate_full_labels[n]==full_labels[n]).all():\n",
    "        classification[n] = True"
   ]
  },
  {
   "cell_type": "code",
   "execution_count": null,
   "metadata": {
    "collapsed": false
   },
   "outputs": [],
   "source": [
    "acc = np.sum(classification)/len(test_set)\n",
    "print('Accuracy:', acc)"
   ]
  }
 ],
 "metadata": {
  "kernelspec": {
   "display_name": "Python 3",
   "language": "python",
   "name": "python3"
  },
  "language_info": {
   "codemirror_mode": {
    "name": "ipython",
    "version": 3
   },
   "file_extension": ".py",
   "mimetype": "text/x-python",
   "name": "python",
   "nbconvert_exporter": "python",
   "pygments_lexer": "ipython3",
   "version": "3.5.0"
  }
 },
 "nbformat": 4,
 "nbformat_minor": 2
}
